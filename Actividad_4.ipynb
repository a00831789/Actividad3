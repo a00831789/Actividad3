{
  "cells": [
    {
      "cell_type": "markdown",
      "metadata": {
        "colab_type": "text",
        "id": "view-in-github"
      },
      "source": [
        "<a href=\"https://colab.research.google.com/github/a00831789/Actividad3/blob/main/Actividad_3.ipynb\" target=\"_parent\"><img src=\"https://colab.research.google.com/assets/colab-badge.svg\" alt=\"Open In Colab\"/></a>"
      ]
    },
    {
      "cell_type": "markdown",
      "metadata": {
        "id": "0rybZKux6iFQ"
      },
      "source": [
        "# Actividad Evaluable: Patrones con K-means"
      ]
    },
    {
      "cell_type": "markdown",
      "metadata": {},
      "source": [
        "### **Equipo 7**\n",
        "\n",
        "Esteban Martínez A00831789\n",
        "\n",
        "Rebeca Hurtado A00830576\n",
        "\n",
        "Emilio Soriano A00829390\n",
        "\n",
        "Luis Moniet Avalos A01197683"
      ]
    },
    {
      "cell_type": "markdown",
      "metadata": {},
      "source": [
        "### **Carga de datos**"
      ]
    },
    {
      "cell_type": "markdown",
      "metadata": {},
      "source": [
        "### **Variables para K-means**"
      ]
    },
    {
      "cell_type": "markdown",
      "metadata": {},
      "source": [
        "### **Valor de k**"
      ]
    },
    {
      "cell_type": "markdown",
      "metadata": {},
      "source": [
        "### **Cálculos de los centros del algoritmo k-means**"
      ]
    },
    {
      "cell_type": "markdown",
      "metadata": {},
      "source": [
        "### **Preguntas**"
      ]
    },
    {
      "cell_type": "markdown",
      "metadata": {},
      "source": [
        "**1. Si utilizaras más de dos variables, ¿Cuáles seleccionarías? Justifica tu respuesta.**"
      ]
    },
    {
      "cell_type": "markdown",
      "metadata": {},
      "source": [
        "**2. ¿Crees que estos centros puedan ser representativos de los datos? ¿Por qué?**"
      ]
    },
    {
      "cell_type": "markdown",
      "metadata": {},
      "source": [
        "**3. ¿Hay centros que estén más cerca de otros?**"
      ]
    },
    {
      "cell_type": "markdown",
      "metadata": {},
      "source": [
        "**4. ¿Cómo obtuviste el valor de k a usar?**"
      ]
    },
    {
      "cell_type": "markdown",
      "metadata": {},
      "source": [
        "**5. ¿Tu valor de k sería mejor si utilizaras un valor más alto o más bajo?** "
      ]
    },
    {
      "cell_type": "markdown",
      "metadata": {},
      "source": [
        "**6. ¿Qué pasaría con los clusters si tuviéramos muchos outliers en el análisis de cajas y bigotes?**"
      ]
    },
    {
      "cell_type": "markdown",
      "metadata": {},
      "source": [
        "**7. ¿Qué puedes decir de los datos basándote en los clusters? ¿Qué conclusión puedes tener?**"
      ]
    }
  ],
  "metadata": {
    "colab": {
      "authorship_tag": "ABX9TyN4SfeB2mRTothQk9HHp0ub",
      "include_colab_link": true,
      "name": "Actividad 3.ipynb",
      "provenance": []
    },
    "kernelspec": {
      "display_name": "Python 3",
      "name": "python3"
    },
    "language_info": {
      "name": "python"
    }
  },
  "nbformat": 4,
  "nbformat_minor": 0
}
