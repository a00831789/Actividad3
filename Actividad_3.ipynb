{
  "cells": [
    {
      "cell_type": "markdown",
      "metadata": {
        "colab_type": "text",
        "id": "view-in-github"
      },
      "source": [
        "<a href=\"https://colab.research.google.com/github/a00831789/Actividad3/blob/main/Actividad_3.ipynb\" target=\"_parent\"><img src=\"https://colab.research.google.com/assets/colab-badge.svg\" alt=\"Open In Colab\"/></a>"
      ]
    },
    {
      "cell_type": "markdown",
      "metadata": {
        "id": "0rybZKux6iFQ"
      },
      "source": [
        "# Actividad Evaluable: Obtención de estadisticas descriptivas"
      ]
    },
    {
      "cell_type": "markdown",
      "metadata": {},
      "source": [
        "### **Equipo 7**\n",
        "\n",
        "Esteban Martínez A00831789\n",
        "\n",
        "Rebeca Hurtado A00830576\n",
        "\n",
        "Emilio Soriano A00829390\n",
        "\n",
        "Luis Moniet Avalos A01197683"
      ]
    }
  ],
  "metadata": {
    "colab": {
      "authorship_tag": "ABX9TyN4SfeB2mRTothQk9HHp0ub",
      "include_colab_link": true,
      "name": "Actividad 3.ipynb",
      "provenance": []
    },
    "kernelspec": {
      "display_name": "Python 3",
      "name": "python3"
    },
    "language_info": {
      "name": "python"
    }
  },
  "nbformat": 4,
  "nbformat_minor": 0
}
